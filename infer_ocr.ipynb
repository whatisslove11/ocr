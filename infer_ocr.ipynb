{
  "nbformat": 4,
  "nbformat_minor": 0,
  "metadata": {
    "colab": {
      "provenance": [],
      "gpuType": "T4"
    },
    "kernelspec": {
      "name": "python3",
      "display_name": "Python 3"
    },
    "language_info": {
      "name": "python"
    },
    "accelerator": "GPU"
  },
  "cells": [
    {
      "cell_type": "code",
      "execution_count": 1,
      "metadata": {
        "id": "GVeVJAldl1tI"
      },
      "outputs": [],
      "source": [
        "!pip install pytorch_lightning==1.9.5 torchmetrics wandb transformers --q"
      ]
    },
    {
      "cell_type": "code",
      "source": [
        "!wget -O TaipeiSansTCBeta-Regular.ttf https://drive.google.com/uc?id=1eGAsTN1HBpJAkeVM57_C7ccp7hbgSz3_&export=download\n",
        "\n",
        "import matplotlib as mpl\n",
        "import matplotlib.pyplot as plt\n",
        "from matplotlib.font_manager import fontManager\n",
        "\n",
        "fontManager.addfont('TaipeiSansTCBeta-Regular.ttf')\n",
        "mpl.rc('font', family='Taipei Sans TC Beta')\n",
        "\n",
        "from IPython.display import clear_output\n",
        "clear_output()"
      ],
      "metadata": {
        "id": "5X6WSTEW6nmP"
      },
      "execution_count": 2,
      "outputs": []
    },
    {
      "cell_type": "code",
      "source": [
        "from itertools import groupby\n",
        "import os\n",
        "\n",
        "import cv2\n",
        "import torch\n",
        "import torch.nn as nn\n",
        "import torch.nn.functional as F\n",
        "from torch.nn.utils.rnn import pad_sequence\n",
        "import torchvision.transforms as transforms\n",
        "import pytorch_lightning as pl\n",
        "\n",
        "import numpy as np\n",
        "import pandas as pd\n",
        "import sys\n",
        "\n",
        "import matplotlib\n",
        "import matplotlib.pyplot as plt\n",
        "\n",
        "device = torch.device(\"cuda\" if torch.cuda.is_available() else \"cpu\")\n",
        "print(device)"
      ],
      "metadata": {
        "colab": {
          "base_uri": "https://localhost:8080/"
        },
        "id": "k0lTnM6umaDS",
        "outputId": "1ce5d262-68e3-4539-fe06-9578de5bcec3"
      },
      "execution_count": 3,
      "outputs": [
        {
          "output_type": "stream",
          "name": "stdout",
          "text": [
            "cuda\n"
          ]
        }
      ]
    },
    {
      "cell_type": "code",
      "source": [
        "class CFG:\n",
        "    wandb = False\n",
        "    model = 'CRNN-with-scheduler-16prec'\n",
        "    batch_size = 512\n",
        "    learning_rate = 3e-4\n",
        "    eps=1e-6\n",
        "    betas=(0.9, 0.999)\n",
        "    num_cycles = 0.5"
      ],
      "metadata": {
        "id": "rZwj2LJJmkug"
      },
      "execution_count": 4,
      "outputs": []
    },
    {
      "cell_type": "code",
      "source": [
        "from google.colab import drive\n",
        "drive.mount('/content/drive', force_remount=True)"
      ],
      "metadata": {
        "colab": {
          "base_uri": "https://localhost:8080/"
        },
        "id": "NxzgIh_DmmSC",
        "outputId": "34257d17-f4fa-4295-f764-2eedaec5e1d2"
      },
      "execution_count": 5,
      "outputs": [
        {
          "output_type": "stream",
          "name": "stdout",
          "text": [
            "Mounted at /content/drive\n"
          ]
        }
      ]
    },
    {
      "cell_type": "code",
      "source": [
        "%cd drive/MyDrive/lab"
      ],
      "metadata": {
        "colab": {
          "base_uri": "https://localhost:8080/"
        },
        "id": "Dd7S4UDM3TrY",
        "outputId": "cc18546c-681f-49f8-ef1f-a3e2ff0c6c69"
      },
      "execution_count": 6,
      "outputs": [
        {
          "output_type": "stream",
          "name": "stdout",
          "text": [
            "/content/drive/MyDrive/lab\n"
          ]
        }
      ]
    },
    {
      "cell_type": "code",
      "source": [
        "blank = [\"-\"]\n",
        "provinces = [\"皖\", \"沪\", \"津\", \"渝\", \"冀\", \"晋\", \"蒙\", \"辽\", \"吉\", \"黑\", \"苏\", \"浙\", \"京\", \"闽\", \"赣\", \"鲁\", \"豫\", \"鄂\", \"湘\", \"粤\", \"桂\",\n",
        "             \"琼\", \"川\", \"贵\", \"云\", \"藏\", \"陕\", \"甘\", \"青\", \"宁\", \"新\", \"警\", \"学\", \"O\"]\n",
        "alphabets = ['A', 'B', 'C', 'D', 'E', 'F', 'G', 'H', 'J', 'K', 'L', 'M', 'N', 'P', 'Q', 'R', 'S', 'T', 'U', 'V', 'W',\n",
        "             'X', 'Y', 'Z', 'O']\n",
        "numbers = ['0', '1', '2', '3', '4', '5', '6', '7', '8', '9']"
      ],
      "metadata": {
        "id": "cIvRu2zymoXg"
      },
      "execution_count": 7,
      "outputs": []
    },
    {
      "cell_type": "code",
      "source": [
        "class Dictionary:\n",
        "    def __init__(self):\n",
        "        self.char2idx = {}\n",
        "        self.idx2char = []\n",
        "\n",
        "    def add_char(self, char: str):\n",
        "        if char not in self.char2idx:\n",
        "            self.idx2char.append(char)\n",
        "            self.char2idx[char] = len(self.idx2char) - 1\n",
        "\n",
        "    def __len__(self):\n",
        "        return len(self.idx2char)"
      ],
      "metadata": {
        "id": "lQGlF6pzmpq9"
      },
      "execution_count": 8,
      "outputs": []
    },
    {
      "cell_type": "code",
      "source": [
        "dictionary = Dictionary()\n",
        "\n",
        "for char in blank + provinces + alphabets + numbers:\n",
        "    dictionary.add_char(char)"
      ],
      "metadata": {
        "id": "xDqFhQehmqpp"
      },
      "execution_count": 9,
      "outputs": []
    },
    {
      "cell_type": "code",
      "source": [
        "class LabelConverter:\n",
        "    def __init__(self, dictionary: Dictionary):\n",
        "        self.dictionary = dictionary\n",
        "\n",
        "    def encode(self, label: str):\n",
        "        return torch.LongTensor([self.dictionary.char2idx[char] for char in label])\n",
        "\n",
        "    def decode(\n",
        "        self,\n",
        "        sequence,\n",
        "        prediction = True,\n",
        "        blank = 0,\n",
        "    ):\n",
        "\n",
        "        if prediction:\n",
        "            sequence = [int(k) for k, _ in groupby(sequence)]\n",
        "        return \"\".join(\n",
        "            self.dictionary.idx2char[idx] for idx in sequence if idx != blank\n",
        "        )"
      ],
      "metadata": {
        "id": "ChPiYgjDmr1n"
      },
      "execution_count": 10,
      "outputs": []
    },
    {
      "cell_type": "code",
      "source": [
        "class BidirectionalLSTM(nn.Module):\n",
        "    def __init__(\n",
        "        self,\n",
        "        dictionary_size: int,\n",
        "        ninp: int,\n",
        "        nhid: int,\n",
        "        nlayers: int,\n",
        "    ):\n",
        "        super().__init__()\n",
        "        self.rnn = nn.LSTM(\n",
        "            input_size=ninp, hidden_size=nhid, num_layers=nlayers, bidirectional=True\n",
        "        )\n",
        "        self.decoder = nn.Linear(2 * nhid, dictionary_size)\n",
        "\n",
        "        self.dictionary_size = dictionary_size\n",
        "\n",
        "    def forward(self, input):\n",
        "        output, _ = self.rnn(input)\n",
        "        seq_len, batch_size, _ = output.size()\n",
        "        decoded = self.decoder(output)\n",
        "        decoded = decoded.view(seq_len, batch_size, self.dictionary_size)\n",
        "        return decoded\n",
        "\n",
        "\n",
        "class CRNN(nn.Module):\n",
        "    def conv_layer(\n",
        "        self,\n",
        "        in_channels: int,\n",
        "        out_channels: int,\n",
        "        kernel_size: int,\n",
        "        padding: int,\n",
        "        batch_norm = False,\n",
        "    ):\n",
        "        layers = [\n",
        "            nn.Conv2d(\n",
        "                in_channels=in_channels,\n",
        "                out_channels=out_channels,\n",
        "                kernel_size=kernel_size,\n",
        "                padding=padding,\n",
        "                bias=not batch_norm\n",
        "            )\n",
        "        ]\n",
        "        if batch_norm:\n",
        "            layers.append(nn.BatchNorm2d(num_features=out_channels))\n",
        "        layers.append(nn.ReLU())\n",
        "        return nn.Sequential(*layers)\n",
        "\n",
        "    def __init__(self, dictionary_size: int):\n",
        "        super().__init__()\n",
        "\n",
        "        self.cnn = nn.Sequential(\n",
        "            self.conv_layer(\n",
        "                in_channels=1,\n",
        "                out_channels=64,\n",
        "                kernel_size=3,\n",
        "                padding=1\n",
        "            ),\n",
        "            nn.MaxPool2d(kernel_size=2, stride=2),\n",
        "            self.conv_layer(\n",
        "                in_channels=64,\n",
        "                out_channels=128,\n",
        "                kernel_size=3,\n",
        "                padding=1\n",
        "            ),\n",
        "            nn.MaxPool2d(kernel_size=2, stride=2),\n",
        "            self.conv_layer(\n",
        "                in_channels=128,\n",
        "                out_channels=256,\n",
        "                kernel_size=3,\n",
        "                padding=1\n",
        "            ),\n",
        "            self.conv_layer(\n",
        "                in_channels=256,\n",
        "                out_channels=256,\n",
        "                kernel_size=3,\n",
        "                padding=1\n",
        "            ),\n",
        "            nn.MaxPool2d(kernel_size=(1, 2), stride=2),\n",
        "            self.conv_layer(\n",
        "                in_channels=256,\n",
        "                out_channels=512,\n",
        "                kernel_size=3,\n",
        "                padding=1,\n",
        "                batch_norm=True\n",
        "            ),\n",
        "            self.conv_layer(\n",
        "                in_channels=512,\n",
        "                out_channels=512,\n",
        "                kernel_size=3,\n",
        "                padding=1,\n",
        "                batch_norm=True\n",
        "            ),\n",
        "            nn.MaxPool2d(\n",
        "                kernel_size=(1, 2),\n",
        "                stride=(2, 1),\n",
        "                padding=(0, 1)\n",
        "            ),\n",
        "            self.conv_layer(\n",
        "                in_channels=512,\n",
        "                out_channels=512,\n",
        "                kernel_size=2,\n",
        "                padding=0,\n",
        "                batch_norm=True\n",
        "            )\n",
        "        )\n",
        "\n",
        "        self.rnn = BidirectionalLSTM(\n",
        "            dictionary_size=dictionary_size, ninp=512, nhid=256, nlayers=2\n",
        "        )\n",
        "\n",
        "    def forward(self, input: torch.Tensor) -> torch.Tensor:\n",
        "        cnn_out = self.cnn(input)\n",
        "        map_to_sequence = cnn_out.squeeze(2).permute(2, 0, 1)\n",
        "        output = self.rnn(map_to_sequence)\n",
        "\n",
        "        return output"
      ],
      "metadata": {
        "id": "JXy3VVcrmxBl"
      },
      "execution_count": 11,
      "outputs": []
    },
    {
      "cell_type": "code",
      "source": [
        "class OCRModule(pl.LightningModule):\n",
        "    def __init__(\n",
        "        self,\n",
        "        learning_rate,\n",
        "        dictionary_size,\n",
        "        label_converter,\n",
        "        config\n",
        "    ):\n",
        "        super().__init__()\n",
        "\n",
        "        self.save_hyperparameters(\"learning_rate\", \"dictionary_size\")\n",
        "\n",
        "        self.config = config\n",
        "\n",
        "        self.learning_rate = learning_rate\n",
        "        self.dictionary_size = dictionary_size\n",
        "        self.label_converter = label_converter\n",
        "\n",
        "        self.model = CRNN(dictionary_size=dictionary_size)\n",
        "\n",
        "    def forward(self, images):\n",
        "        return self.model(images)"
      ],
      "metadata": {
        "id": "RHbxnLzAm6Zs"
      },
      "execution_count": 12,
      "outputs": []
    },
    {
      "cell_type": "code",
      "source": [
        "label_converter = LabelConverter(dictionary)\n",
        "\n",
        "checkpoint = torch.load(\"checkpoints/best_v.ckpt\", map_location=device)\n",
        "hyper_parameters = checkpoint[\"hyper_parameters\"]\n",
        "\n",
        "model = OCRModule(**hyper_parameters, label_converter=label_converter, config=CFG)\n",
        "\n",
        "model_weights = checkpoint[\"state_dict\"]\n",
        "\n",
        "model.load_state_dict(model_weights)"
      ],
      "metadata": {
        "colab": {
          "base_uri": "https://localhost:8080/"
        },
        "id": "GYn4wml0m8Tn",
        "outputId": "ec47bb86-4c06-42c9-f190-8f3f8f43b0af"
      },
      "execution_count": 13,
      "outputs": [
        {
          "output_type": "execute_result",
          "data": {
            "text/plain": [
              "<All keys matched successfully>"
            ]
          },
          "metadata": {},
          "execution_count": 13
        }
      ]
    },
    {
      "cell_type": "code",
      "source": [
        "@torch.inference_mode()\n",
        "def predict(model, converter, img_path):\n",
        "    transform = transforms.Compose([\n",
        "      transforms.ToTensor(),\n",
        "      transforms.Normalize(0.5, 0.5)\n",
        "    ])\n",
        "    img = cv2.imread(img_path)\n",
        "    img = cv2.resize(img, (128, 32))\n",
        "    img = cv2.cvtColor(img, cv2.COLOR_BGR2GRAY)\n",
        "    img = transform(img)\n",
        "\n",
        "    pred = model(img.unsqueeze(0))\n",
        "\n",
        "    return converter.decode(pred.argmax(-1))"
      ],
      "metadata": {
        "id": "e2JhOIhxnEK_"
      },
      "execution_count": 14,
      "outputs": []
    },
    {
      "cell_type": "code",
      "source": [
        "def draw_sample(img_path: str, model):\n",
        "    nl = '\\n'\n",
        "    pred = predict(model, label_converter, img_path)\n",
        "    ground_truth = img_path.split('/')[-1].split('.')[0].split('-')[-1]\n",
        "    img = cv2.imread(img_path)\n",
        "    plt.imshow(img, cmap=\"gray\")\n",
        "    plt.title(f'Predicted: {pred}{nl} True label: {ground_truth}')\n",
        "    plt.axis(\"off\")"
      ],
      "metadata": {
        "id": "Br_owIdryPnk"
      },
      "execution_count": 15,
      "outputs": []
    },
    {
      "cell_type": "code",
      "source": [
        "img_path = 'test/0091-皖AL819T.jpg'\n",
        "draw_sample(img_path, model)"
      ],
      "metadata": {
        "colab": {
          "base_uri": "https://localhost:8080/",
          "height": 244
        },
        "id": "Ux2mzzDH5uiG",
        "outputId": "949595ba-8eb3-4f29-acb8-5e57336c4994"
      },
      "execution_count": 19,
      "outputs": [
        {
          "output_type": "display_data",
          "data": {
            "text/plain": [
              "<Figure size 640x480 with 1 Axes>"
            ],
            "image/png": "[encoded data removed]"
          },
          "metadata": {}
        }
      ]
    }
  ]
}